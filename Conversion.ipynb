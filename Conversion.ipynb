{
 "cells": [
  {
   "cell_type": "markdown",
   "metadata": {},
   "source": [
    "# Converting File Formats"
   ]
  },
  {
   "cell_type": "markdown",
   "metadata": {},
   "source": [
    "## Load Libraries \n",
    "At first, I load all the libraries we will need later on."
   ]
  },
  {
   "cell_type": "code",
   "execution_count": 1,
   "metadata": {},
   "outputs": [],
   "source": [
    "import numpy as np\n",
    "import os"
   ]
  },
  {
   "cell_type": "markdown",
   "metadata": {},
   "source": [
    "and define some useful function"
   ]
  },
  {
   "cell_type": "code",
   "execution_count": 2,
   "metadata": {},
   "outputs": [],
   "source": [
    "def readfile(filename):\n",
    "    array = []\n",
    "    with open(filename) as f:\n",
    "        for line in f:\n",
    "            if line[0]==\"#\":continue\n",
    "            words = [float(elt.strip()) for elt in line.split( )]\n",
    "            array.append(words)\n",
    "    return np.array(array)\n",
    "\n",
    "def savefile(label, pid, data):\n",
    "    dirname = \"files/\"+label\n",
    "    if not os.path.exists(dirname): os.mkdir(dirname)\n",
    "    f = open(dirname+\"/\"+label+\"_\"+str(pid)+\".txt\", \"w\")\n",
    "    for x,y,z in data:\n",
    "        f.write(str(x)+\" \"+str(y)+\" \"+str(z)+\"\\n\" )\n",
    "    f.close()"
   ]
  },
  {
   "cell_type": "markdown",
   "metadata": {},
   "source": [
    "## Rafal's Files\n",
    "\n",
    "I am sending you first files with our predictions for cham meson cross\n",
    "sections. The files contain dsig_dydpt cross sections for production of the sum of\n",
    "$D$-meson and $\\bar{D}$-antimeson at 13 TeV. Here the $c \\to  D$ fragmentation\n",
    "is done with the help of the Peterson fragmentaion function ($\\epsilon$ = 0.05) and the\n",
    "fragmentaion probability BR($c\\to D$) = 1. Technically, the results are\n",
    "the same for different types of D mesons and will only have different\n",
    "normalization given by the different fragmentaion fractions.\n",
    "The cross sections are in nanobarns and the buns are:\n",
    "y) 100 points (0.0-10.0)\n",
    "pT) 200 points (0.0-20.0)"
   ]
  },
  {
   "cell_type": "code",
   "execution_count": 10,
   "metadata": {},
   "outputs": [],
   "source": [
    "models = [\n",
    "    [\"dsig_dydpt_Dmes_13TeV_gg2ccb_kT_MRW_PetFF_forLHCb\"  , \"13TeV_KT_RAFAL-fullkt-MRW\"], \n",
    "    [\"dsig_dydpt_Dmes_13TeV_gg2ccb_hyb_MRW_PetFF_forFPF\"  , \"13TeV_KT_RAFAL-hyb-MRW\"],\n",
    "    [\"dsig_dydpt_Dmes_13TeV_gg2ccb_hyb_KSlin_PetFF_forFPF\", \"13TeV_KT_RAFAL-hyb-KSlin\"],\n",
    "    [\"dsig_dydpt_Dmes_13TeV_IC_hyb_KSlin_PetFF_forFPF\"    , \"13TeV_KT_RAFAL-IC-KSlin\"],\n",
    "]\n",
    "\n",
    "f411, f421, f431, f4122 = 0.244, 0.606, 0.081, 0.061 \n",
    "for filename, label in models: \n",
    "    data = readfile(\"./files-raw/\"+filename+\".dat\")\n",
    "    data = data[data[:,0].argsort()]\n",
    "    data = data[data[:,1].argsort(kind='mergesort')]\n",
    "    \n",
    "    data_p411  = [[x,y,z*0.5*f411*1e3] for x,y,z in data] \n",
    "    data_p421  = [[x,y,z*0.5*f421*1e3] for x,y,z in data] \n",
    "    data_p431  = [[x,y,z*0.5*f431*1e3] for x,y,z in data] \n",
    "    data_p4122 = [[x,y,z*0.5*f4122*1e3]for x,y,z in data] \n",
    "    data_m411  = [[x,y,z*0.5*f411*1e3] for x,y,z in data] \n",
    "    data_m421  = [[x,y,z*0.5*f421*1e3] for x,y,z in data] \n",
    "    data_m431  = [[x,y,z*0.5*f431*1e3] for x,y,z in data]     \n",
    "    data_m4122 = [[x,y,z*0.5*f4122*1e3]for x,y,z in data] \n",
    "    \n",
    "    savefile(label, 411, data_p411)\n",
    "    savefile(label, 421, data_p421)\n",
    "    savefile(label, 431, data_p431)\n",
    "    savefile(label, 4122,data_p4122)\n",
    "    savefile(label,-411, data_m411)\n",
    "    savefile(label,-421, data_m421)\n",
    "    savefile(label,-431, data_m431)\n",
    "    savefile(label,-4122,data_m4122)"
   ]
  },
  {
   "cell_type": "markdown",
   "metadata": {},
   "source": [
    "Intrinsic charm"
   ]
  },
  {
   "cell_type": "code",
   "execution_count": 11,
   "metadata": {},
   "outputs": [],
   "source": [
    "model0 = \"dsig_dydpt_Dmes_13TeV_gg2ccb_hyb_KSlin_PetFF_forFPF\"\n",
    "models =  [[\"dsig_dydpt_Dmes_13TeV_IC_hyb_KSlin_PetFF_forFPF\"    , \"13TeV_KT_RAFAL-hyb+IC-KSlin\"]]\n",
    "\n",
    "f411, f421, f431, f4122 = 0.244, 0.606, 0.081, 0.061 \n",
    "for filename, label in models: \n",
    "    \n",
    "    data0 = readfile(\"./files-raw/\"+model0+\".dat\")\n",
    "    data0 = data0[data0[:,0].argsort()]\n",
    "    data0 = data0[data0[:,1].argsort(kind='mergesort')]\n",
    "    \n",
    "    data = readfile(\"./files-raw/\"+filename+\".dat\")\n",
    "    data = data[data[:,0].argsort()]\n",
    "    data = data[data[:,1].argsort(kind='mergesort')]\n",
    "    \n",
    "    data_p411  = [[d[0],d[1],(d[2]+d0[2])*0.5*f411*1e3] for d,d0 in zip(data, data0)] \n",
    "    data_p421  = [[d[0],d[1],(d[2]+d0[2])*0.5*f421*1e3] for d,d0 in zip(data, data0)] \n",
    "    data_p431  = [[d[0],d[1],(d[2]+d0[2])*0.5*f431*1e3] for d,d0 in zip(data, data0)] \n",
    "    data_p4122 = [[d[0],d[1],(d[2]+d0[2])*0.5*f4122*1e3]for d,d0 in zip(data, data0)] \n",
    "    data_m411  = [[d[0],d[1],(d[2]+d0[2])*0.5*f411*1e3] for d,d0 in zip(data, data0)] \n",
    "    data_m421  = [[d[0],d[1],(d[2]+d0[2])*0.5*f421*1e3] for d,d0 in zip(data, data0)] \n",
    "    data_m431  = [[d[0],d[1],(d[2]+d0[2])*0.5*f431*1e3] for d,d0 in zip(data, data0)]     \n",
    "    data_m4122 = [[d[0],d[1],(d[2]+d0[2])*0.5*f4122*1e3]for d,d0 in zip(data, data0)] \n",
    "    \n",
    "    savefile(label, 411, data_p411)\n",
    "    savefile(label, 421, data_p421)\n",
    "    savefile(label, 431, data_p431)\n",
    "    savefile(label, 4122,data_p4122)\n",
    "    savefile(label,-411, data_m411)\n",
    "    savefile(label,-421, data_m421)\n",
    "    savefile(label,-431, data_m431)\n",
    "    savefile(label,-4122,data_m4122)"
   ]
  },
  {
   "cell_type": "markdown",
   "metadata": {},
   "source": [
    "recombination"
   ]
  },
  {
   "cell_type": "code",
   "execution_count": 16,
   "metadata": {},
   "outputs": [],
   "source": [
    "models = {\n",
    "    0:   \"dsig_dydpt_Dmes_13TeV_gg2ccb_hyb_KSlin_PetFF_forFPF\",\n",
    "    431: \"dsig_dydpt_13TeV_RECOMB_direct_Dsp\",\n",
    "    421: \"dsig_dydpt_13TeV_RECOMB_direct_D0\",\n",
    "    411: \"dsig_dydpt_13TeV_RECOMB_direct_Dp\",\n",
    "    4:   \"dsig_dydpt_13TeV_RECOMB_ctoD\",\n",
    "}\n",
    "label=\"13TeV_KT_RAFAL-hyb+REC-KSlin\"\n",
    "\n",
    "f411, f421, f431, f4122 = 0.244, 0.606, 0.081, 0.061 \n",
    "datas = {}\n",
    "\n",
    "for i in models.keys(): \n",
    "    \n",
    "    data = readfile(\"./files-raw/\"+models[i]+\".dat\")\n",
    "    data = data[data[:,0].argsort()]\n",
    "    data = data[data[:,1].argsort(kind='mergesort')]\n",
    "    datas[i]=data\n",
    "    \n",
    "data_p411  = [[d0[0],d0[1],(d0[2]+dc[2])*0.5*f411*1e3+dD[2]*0.5e3 ] for d0,dc,dD in zip(datas[0], datas[4], datas[411])] \n",
    "data_p421  = [[d0[0],d0[1],(d0[2]+dc[2])*0.5*f421*1e3+dD[2]*0.5e3 ] for d0,dc,dD in zip(datas[0], datas[4], datas[421])] \n",
    "data_p431  = [[d0[0],d0[1],(d0[2]+dc[2])*0.5*f431*1e3+dD[2]*0.5e3 ] for d0,dc,dD in zip(datas[0], datas[4], datas[431])] \n",
    "data_p4122 = [[d0[0],d0[1],(d0[2]+dc[2])*0.5*f4122*1e3            ] for d0,dc    in zip(datas[0], datas[4]            )] \n",
    "data_m411  = [[d0[0],d0[1],(d0[2]+dc[2])*0.5*f411*1e3+dD[2]*0.5e3 ] for d0,dc,dD in zip(datas[0], datas[4], datas[411])] \n",
    "data_m421  = [[d0[0],d0[1],(d0[2]+dc[2])*0.5*f421*1e3+dD[2]*0.5e3 ] for d0,dc,dD in zip(datas[0], datas[4], datas[421])] \n",
    "data_m431  = [[d0[0],d0[1],(d0[2]+dc[2])*0.5*f431*1e3+dD[2]*0.5e3 ] for d0,dc,dD in zip(datas[0], datas[4], datas[431])]     \n",
    "data_m4122 = [[d0[0],d0[1],(d0[2]+dc[2])*0.5*f4122*1e3            ] for d0,dc    in zip(datas[0], datas[4]            )] \n",
    "    \n",
    "savefile(label, 411, data_p411)\n",
    "savefile(label, 421, data_p421)\n",
    "savefile(label, 431, data_p431)\n",
    "savefile(label, 4122,data_p4122)\n",
    "savefile(label,-411, data_m411)\n",
    "savefile(label,-421, data_m421)\n",
    "savefile(label,-431, data_m431)\n",
    "savefile(label,-4122,data_m4122)"
   ]
  },
  {
   "cell_type": "code",
   "execution_count": null,
   "metadata": {},
   "outputs": [],
   "source": []
  }
 ],
 "metadata": {
  "kernelspec": {
   "display_name": "Python 3",
   "language": "python",
   "name": "python3"
  },
  "language_info": {
   "codemirror_mode": {
    "name": "ipython",
    "version": 3
   },
   "file_extension": ".py",
   "mimetype": "text/x-python",
   "name": "python",
   "nbconvert_exporter": "python",
   "pygments_lexer": "ipython3",
   "version": "3.6.10"
  },
  "toc": {
   "base_numbering": 1,
   "nav_menu": {
    "height": "734px",
    "width": "465px"
   },
   "number_sections": true,
   "sideBar": true,
   "skip_h1_title": false,
   "title_cell": "Table of Contents",
   "title_sidebar": "Contents",
   "toc_cell": false,
   "toc_position": {},
   "toc_section_display": true,
   "toc_window_display": false
  }
 },
 "nbformat": 4,
 "nbformat_minor": 2
}
