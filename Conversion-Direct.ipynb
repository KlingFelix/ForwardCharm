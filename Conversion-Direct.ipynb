{
 "cells": [
  {
   "cell_type": "markdown",
   "metadata": {},
   "source": [
    "# Converting File Formats"
   ]
  },
  {
   "cell_type": "markdown",
   "metadata": {},
   "source": [
    "## Load Libraries \n",
    "At first, I load all the libraries we will need later on."
   ]
  },
  {
   "cell_type": "code",
   "execution_count": 1,
   "metadata": {},
   "outputs": [],
   "source": [
    "import numpy as np\n",
    "import os"
   ]
  },
  {
   "cell_type": "markdown",
   "metadata": {},
   "source": [
    "and define some useful function"
   ]
  },
  {
   "cell_type": "code",
   "execution_count": 2,
   "metadata": {},
   "outputs": [],
   "source": [
    "def readfile(filename):\n",
    "    array = []\n",
    "    with open(filename) as f:\n",
    "        for line in f:\n",
    "            if line[0]==\"#\":continue\n",
    "            words = [float(elt.strip()) for elt in line.split( )]\n",
    "            array.append(words)\n",
    "    return np.array(array)\n",
    "\n",
    "def savefile(label, pid, data):\n",
    "    dirname = \"files/\"+label\n",
    "    if not os.path.exists(dirname): os.mkdir(dirname)\n",
    "    f = open(dirname+\"/\"+label+\"_\"+str(pid)+\".txt\", \"w\")\n",
    "    for x,y,z in data:\n",
    "        f.write(str(x)+\" \"+str(y)+\" \"+str(z)+\"\\n\" )\n",
    "    f.close()"
   ]
  },
  {
   "cell_type": "markdown",
   "metadata": {},
   "source": [
    "## Rafal's Files\n",
    "\n",
    "I am sending you first files with our predictions for cham meson cross\n",
    "sections. The files contain dsig_dydpt cross sections for production of the sum of\n",
    "$D$-meson and $\\bar{D}$-antimeson at 13 TeV. Here the $c \\to  D$ fragmentation\n",
    "is done with the help of the Peterson fragmentaion function ($\\epsilon$ = 0.05) and the\n",
    "fragmentaion probability BR($c\\to D$) = 1. Technically, the results are\n",
    "the same for different types of D mesons and will only have different\n",
    "normalization given by the different fragmentaion fractions.\n",
    "The cross sections are in nanobarns and the buns are:\n",
    "y) 100 points (0.0-10.0)\n",
    "pT) 200 points (0.0-20.0)"
   ]
  },
  {
   "cell_type": "code",
   "execution_count": 3,
   "metadata": {},
   "outputs": [],
   "source": [
    "models = [\n",
    "#    [\"dsig_dydpt_Dmes_13TeV_gg2ccb_kT_MRW_PetFF_forLHCb\"  , \"13TeV_KT_RAFAL-fullkt-MRW\"], \n",
    "#    [\"dsig_dydpt_Dmes_13TeV_gg2ccb_hyb_MRW_PetFF_forFPF\"  , \"13TeV_KT_RAFAL-hyb-MRW\"],\n",
    "#    [\"dsig_dydpt_Dmes_13TeV_gg2ccb_hyb_KSlin_PetFF_forFPF\", \"13TeV_KT_RAFAL-hyb-KSlin\"],\n",
    "    [\"dsig_dydpt_Dmes_13TeV_IC_hyb_KSlin_PetFF_forFPF\"    , \"13TeV_KT_RAFAL-IC-KSlin\"],\n",
    "]\n",
    "\n",
    "f411, f421, f431, f4122 = 0.244, 0.606, 0.081, 0.061 \n",
    "for filename, label in models: \n",
    "    data = readfile(\"./files-raw/\"+filename+\".dat\")\n",
    "    data = data[data[:,0].argsort()]\n",
    "    data = data[data[:,1].argsort(kind='mergesort')]\n",
    "    \n",
    "    data_p411  = [[x,y,z*0.5*f411*1e3] for x,y,z in data] \n",
    "    data_p421  = [[x,y,z*0.5*f421*1e3] for x,y,z in data] \n",
    "    data_p431  = [[x,y,z*0.5*f431*1e3] for x,y,z in data] \n",
    "    data_p4122 = [[x,y,z*0.5*f4122*1e3]for x,y,z in data] \n",
    "    data_m411  = [[x,y,z*0.5*f411*1e3] for x,y,z in data] \n",
    "    data_m421  = [[x,y,z*0.5*f421*1e3] for x,y,z in data] \n",
    "    data_m431  = [[x,y,z*0.5*f431*1e3] for x,y,z in data]     \n",
    "    data_m4122 = [[x,y,z*0.5*f4122*1e3]for x,y,z in data] \n",
    "    \n",
    "    savefile(label, 411, data_p411)\n",
    "    savefile(label, 421, data_p421)\n",
    "    savefile(label, 431, data_p431)\n",
    "    savefile(label, 4122,data_p4122)\n",
    "    savefile(label,-411, data_m411)\n",
    "    savefile(label,-421, data_m421)\n",
    "    savefile(label,-431, data_m431)\n",
    "    savefile(label,-4122,data_m4122)"
   ]
  },
  {
   "cell_type": "markdown",
   "metadata": {},
   "source": [
    "Intrinsic charm"
   ]
  },
  {
   "cell_type": "code",
   "execution_count": 4,
   "metadata": {},
   "outputs": [],
   "source": [
    "model0 = \"dsig_dydpt_Dmes_13TeV_gg2ccb_hyb_KSlin_PetFF_forFPF\"\n",
    "models =  [[\"dsig_dydpt_Dmes_13TeV_IC_hyb_KSlin_PetFF_forFPF\"    , \"13TeV_KT_RAFAL-hyb+IC-KSlin\"]]\n",
    "\n",
    "f411, f421, f431, f4122 = 0.244, 0.606, 0.081, 0.061 \n",
    "for filename, label in models: \n",
    "    \n",
    "    data0 = readfile(\"./files-raw/\"+model0+\".dat\")\n",
    "    data0 = data0[data0[:,0].argsort()]\n",
    "    data0 = data0[data0[:,1].argsort(kind='mergesort')]\n",
    "    \n",
    "    data = readfile(\"./files-raw/\"+filename+\".dat\")\n",
    "    data = data[data[:,0].argsort()]\n",
    "    data = data[data[:,1].argsort(kind='mergesort')]\n",
    "    \n",
    "    data_p411  = [[d[0],d[1],(d[2]+d0[2])*0.5*f411*1e3] for d,d0 in zip(data, data0)] \n",
    "    data_p421  = [[d[0],d[1],(d[2]+d0[2])*0.5*f421*1e3] for d,d0 in zip(data, data0)] \n",
    "    data_p431  = [[d[0],d[1],(d[2]+d0[2])*0.5*f431*1e3] for d,d0 in zip(data, data0)] \n",
    "    data_p4122 = [[d[0],d[1],(d[2]+d0[2])*0.5*f4122*1e3]for d,d0 in zip(data, data0)] \n",
    "    data_m411  = [[d[0],d[1],(d[2]+d0[2])*0.5*f411*1e3] for d,d0 in zip(data, data0)] \n",
    "    data_m421  = [[d[0],d[1],(d[2]+d0[2])*0.5*f421*1e3] for d,d0 in zip(data, data0)] \n",
    "    data_m431  = [[d[0],d[1],(d[2]+d0[2])*0.5*f431*1e3] for d,d0 in zip(data, data0)]     \n",
    "    data_m4122 = [[d[0],d[1],(d[2]+d0[2])*0.5*f4122*1e3]for d,d0 in zip(data, data0)] \n",
    "    \n",
    "    savefile(label, 411, data_p411)\n",
    "    savefile(label, 421, data_p421)\n",
    "    savefile(label, 431, data_p431)\n",
    "    savefile(label, 4122,data_p4122)\n",
    "    savefile(label,-411, data_m411)\n",
    "    savefile(label,-421, data_m421)\n",
    "    savefile(label,-431, data_m431)\n",
    "    savefile(label,-4122,data_m4122)"
   ]
  },
  {
   "cell_type": "markdown",
   "metadata": {},
   "source": [
    "recombination"
   ]
  },
  {
   "cell_type": "code",
   "execution_count": 5,
   "metadata": {},
   "outputs": [],
   "source": [
    "models = {\n",
    "    0:   \"dsig_dydpt_Dmes_13TeV_gg2ccb_hyb_KSlin_PetFF_forFPF\",\n",
    "    431: \"dsig_dydpt_13TeV_RECOMB_direct_Dsp\",\n",
    "    421: \"dsig_dydpt_13TeV_RECOMB_direct_D0\",\n",
    "    411: \"dsig_dydpt_13TeV_RECOMB_direct_Dp\",\n",
    "    4:   \"dsig_dydpt_13TeV_RECOMB_ctoD\",\n",
    "}\n",
    "label=\"13TeV_KT_RAFAL-hyb+REC-KSlin\"\n",
    "\n",
    "f411, f421, f431, f4122 = 0.244, 0.606, 0.081, 0.061 \n",
    "datas = {}\n",
    "\n",
    "for i in models.keys(): \n",
    "    \n",
    "    data = readfile(\"./files-raw/\"+models[i]+\".dat\")\n",
    "    data = data[data[:,0].argsort()]\n",
    "    data = data[data[:,1].argsort(kind='mergesort')]\n",
    "    datas[i]=data\n",
    "    \n",
    "data_p411  = [[d0[0],d0[1],(d0[2]+dc[2])*0.5*f411*1e3+dD[2]*0.5e3 ] for d0,dc,dD in zip(datas[0], datas[4], datas[411])] \n",
    "data_p421  = [[d0[0],d0[1],(d0[2]+dc[2])*0.5*f421*1e3+dD[2]*0.5e3 ] for d0,dc,dD in zip(datas[0], datas[4], datas[421])] \n",
    "data_p431  = [[d0[0],d0[1],(d0[2]+dc[2])*0.5*f431*1e3+dD[2]*0.5e3 ] for d0,dc,dD in zip(datas[0], datas[4], datas[431])] \n",
    "data_p4122 = [[d0[0],d0[1],(d0[2]+dc[2])*0.5*f4122*1e3            ] for d0,dc    in zip(datas[0], datas[4]            )] \n",
    "data_m411  = [[d0[0],d0[1],(d0[2]+dc[2])*0.5*f411*1e3+dD[2]*0.5e3 ] for d0,dc,dD in zip(datas[0], datas[4], datas[411])] \n",
    "data_m421  = [[d0[0],d0[1],(d0[2]+dc[2])*0.5*f421*1e3+dD[2]*0.5e3 ] for d0,dc,dD in zip(datas[0], datas[4], datas[421])] \n",
    "data_m431  = [[d0[0],d0[1],(d0[2]+dc[2])*0.5*f431*1e3+dD[2]*0.5e3 ] for d0,dc,dD in zip(datas[0], datas[4], datas[431])]     \n",
    "data_m4122 = [[d0[0],d0[1],(d0[2]+dc[2])*0.5*f4122*1e3            ] for d0,dc    in zip(datas[0], datas[4]            )] \n",
    "    \n",
    "savefile(label, 411, data_p411)\n",
    "savefile(label, 421, data_p421)\n",
    "savefile(label, 431, data_p431)\n",
    "savefile(label, 4122,data_p4122)\n",
    "savefile(label,-411, data_m411)\n",
    "savefile(label,-421, data_m421)\n",
    "savefile(label,-431, data_m431)\n",
    "savefile(label,-4122,data_m4122)"
   ]
  },
  {
   "cell_type": "markdown",
   "metadata": {},
   "source": [
    "## Yu-Seon's files\n",
    "\n",
    "I am attaching the data files for the differential cross sections (d^2\\sigma/dpt/dy) of charm hadrons.  \n",
    "They are written in order of {y,  p_T,   d^2\\sigma/dpt/dy}, and the unit is \\mub/GeV. "
   ]
  },
  {
   "cell_type": "code",
   "execution_count": 19,
   "metadata": {},
   "outputs": [],
   "source": [
    "models = {\n",
    "    421: \"D0_dsdpTdy_y0to9_pT0to25GeV\",\n",
    "    411: \"Dpm_dsdpTdy_y0to9_pT0to25GeV\",\n",
    "    431: \"Ds_dsdpTdy_y0to9_pT0to25GeV\",\n",
    "    4122:\"LambdaC_dsdpTdy_y0to9_pT0to25GeV\",\n",
    "}\n",
    "label=\"13TeV_NLO_YUSEON\"\n",
    "\n",
    "datas = {}\n",
    "for i in models.keys(): \n",
    "    \n",
    "    data = readfile(\"./files-raw/\"+models[i]+\".dat\")\n",
    "    data = data[data[:,0].argsort()]\n",
    "    data = data[data[:,1].argsort(kind='mergesort')]\n",
    "    data = [[x,y,z*0.5*1e6] for x,y,z in data] \n",
    "    savefile(label, i, data)\n",
    "    savefile(label,-i, data)    "
   ]
  },
  {
   "cell_type": "markdown",
   "metadata": {},
   "source": [
    "## Matthew's HEPMC files"
   ]
  },
  {
   "cell_type": "code",
   "execution_count": 2,
   "metadata": {},
   "outputs": [],
   "source": [
    "import numpy as np\n",
    "import sys\n",
    "import os\n",
    "import math\n",
    "import random\n",
    "import hepmcio\n",
    "from skhep.math.vectors import LorentzVector, Vector3D"
   ]
  },
  {
   "cell_type": "code",
   "execution_count": 3,
   "metadata": {},
   "outputs": [
    {
     "name": "stdout",
     "output_type": "stream",
     "text": [
      "('processed', 5000, ' Events')\n",
      "('processed', 10000, ' Events')\n",
      "('processed', 15000, ' Events')\n",
      "('processed', 20000, ' Events')\n",
      "('processed', 25000, ' Events')\n",
      "('processed', 30000, ' Events')\n",
      "('processed', 35000, ' Events')\n",
      "('processed', 40000, ' Events')\n",
      "('processed', 45000, ' Events')\n",
      "('processed', 50000, ' Events')\n"
     ]
    },
    {
     "ename": "KeyboardInterrupt",
     "evalue": "",
     "output_type": "error",
     "traceback": [
      "\u001b[0;31m---------------------------------------------------------------------------\u001b[0m",
      "\u001b[0;31mKeyboardInterrupt\u001b[0m                         Traceback (most recent call last)",
      "\u001b[0;32m<ipython-input-3-5271a2ca976b>\u001b[0m in \u001b[0;36m<module>\u001b[0;34m()\u001b[0m\n\u001b[1;32m     89\u001b[0m \u001b[0minputfilename\u001b[0m \u001b[0;34m=\u001b[0m \u001b[0;34m\"/Users/felixkling/Downloads/pwgPOWHEG+PYTHIA8-colourfix.hepmc\"\u001b[0m\u001b[0;34m\u001b[0m\u001b[0m\n\u001b[1;32m     90\u001b[0m \u001b[0mlabel\u001b[0m \u001b[0;34m=\u001b[0m \u001b[0;34m\"13TeV_NLO_MATTHEW_Powheg-P8COLORFIX\"\u001b[0m\u001b[0;34m\u001b[0m\u001b[0m\n\u001b[0;32m---> 91\u001b[0;31m \u001b[0mprocess_spectra\u001b[0m\u001b[0;34m(\u001b[0m\u001b[0minputfilename\u001b[0m\u001b[0;34m,\u001b[0m \u001b[0mlabel\u001b[0m\u001b[0;34m,\u001b[0m \u001b[0mnevent\u001b[0m \u001b[0;34m=\u001b[0m \u001b[0;36m100000\u001b[0m\u001b[0;34m)\u001b[0m\u001b[0;34m\u001b[0m\u001b[0m\n\u001b[0m",
      "\u001b[0;32m<ipython-input-3-5271a2ca976b>\u001b[0m in \u001b[0;36mprocess_spectra\u001b[0;34m(inputfilename, label, nevent)\u001b[0m\n\u001b[1;32m     68\u001b[0m \u001b[0;34m\u001b[0m\u001b[0m\n\u001b[1;32m     69\u001b[0m     \u001b[0;31m# read files generation\u001b[0m\u001b[0;34m\u001b[0m\u001b[0;34m\u001b[0m\u001b[0m\n\u001b[0;32m---> 70\u001b[0;31m     \u001b[0mdata\u001b[0m\u001b[0;34m,\u001b[0m \u001b[0mtotal_weight\u001b[0m \u001b[0;34m=\u001b[0m \u001b[0mprocess_file\u001b[0m\u001b[0;34m(\u001b[0m\u001b[0minputfilename\u001b[0m\u001b[0;34m)\u001b[0m\u001b[0;34m\u001b[0m\u001b[0m\n\u001b[0m\u001b[1;32m     71\u001b[0m     \u001b[0;32mfor\u001b[0m \u001b[0mpid\u001b[0m\u001b[0;34m,\u001b[0m \u001b[0myh\u001b[0m\u001b[0;34m,\u001b[0m \u001b[0mpth\u001b[0m \u001b[0;32min\u001b[0m \u001b[0mdata\u001b[0m\u001b[0;34m:\u001b[0m\u001b[0;34m\u001b[0m\u001b[0m\n\u001b[1;32m     72\u001b[0m         \u001b[0;32mif\u001b[0m \u001b[0mpth\u001b[0m \u001b[0;34m<\u001b[0m \u001b[0mptmax\u001b[0m \u001b[0;32mand\u001b[0m \u001b[0mabs\u001b[0m\u001b[0;34m(\u001b[0m\u001b[0myh\u001b[0m\u001b[0;34m)\u001b[0m\u001b[0;34m<\u001b[0m\u001b[0;36m9\u001b[0m\u001b[0;34m:\u001b[0m\u001b[0;34m\u001b[0m\u001b[0m\n",
      "\u001b[0;32m<ipython-input-3-5271a2ca976b>\u001b[0m in \u001b[0;36mprocess_file\u001b[0;34m(inputfilename)\u001b[0m\n\u001b[1;32m     25\u001b[0m         \u001b[0;31m# read event from HEPMC\u001b[0m\u001b[0;34m\u001b[0m\u001b[0;34m\u001b[0m\u001b[0m\n\u001b[1;32m     26\u001b[0m         \u001b[0;32mtry\u001b[0m\u001b[0;34m:\u001b[0m\u001b[0;34m\u001b[0m\u001b[0m\n\u001b[0;32m---> 27\u001b[0;31m             \u001b[0mhepmc_event\u001b[0m \u001b[0;34m=\u001b[0m \u001b[0mreader\u001b[0m\u001b[0;34m.\u001b[0m\u001b[0mnext\u001b[0m\u001b[0;34m(\u001b[0m\u001b[0;34m)\u001b[0m\u001b[0;34m\u001b[0m\u001b[0m\n\u001b[0m\u001b[1;32m     28\u001b[0m         \u001b[0;32mexcept\u001b[0m\u001b[0;34m:\u001b[0m\u001b[0;34m\u001b[0m\u001b[0m\n\u001b[1;32m     29\u001b[0m             \u001b[0;32mcontinue\u001b[0m\u001b[0;34m\u001b[0m\u001b[0m\n",
      "\u001b[0;31mKeyboardInterrupt\u001b[0m: "
     ]
    }
   ],
   "source": [
    "def get_pt(particle):\n",
    "    px, py = particle.mom[0], particle.mom[1]\n",
    "    return np.sqrt(px**2+py**2)\n",
    "\n",
    "def get_y(particle):\n",
    "    en, pz = particle.mom[3], particle.mom[2]\n",
    "    return 0.5*np.log((en+pz)/(en-pz))\n",
    "\n",
    "def round_y_and_pt(y0, pt0 , ybins, ptbins, dy, dpt):\n",
    "    iy = np.digitize(abs(y0),ybins)\n",
    "    ipt = np.digitize(pt0,ptbins)\n",
    "    y = ybins[iy]-dy/2.\n",
    "    pt = ptbins[ipt]-dpt/2.\n",
    "    return y, pt\n",
    "    \n",
    "def process_file(inputfilename):\n",
    "    \n",
    "    # open HEPMC file\n",
    "    reader = hepmcio.HepMCReader(inputfilename)\n",
    "    \n",
    "    # loop over events in file\n",
    "    data, nevent = [], 0\n",
    "    while True:\n",
    "        \n",
    "        # read event from HEPMC\n",
    "        try:\n",
    "            hepmc_event = reader.next()\n",
    "        except:\n",
    "            continue\n",
    "        if not hepmc_event: break\n",
    "        nevent+=1\n",
    "        \n",
    "        # analyse events\n",
    "        hepmc_particles=hepmc_event.particles\n",
    "        event_weight=hepmc_event.xsec[0]\n",
    "        for iparticle,particle in enumerate(hepmc_event.particles.values()):\n",
    "            pid, status = particle.pid, particle.status\n",
    "            if abs(pid) in [ 411,  421,  431,  4122]:\n",
    "                data.append([pid, get_y(particle), get_pt(particle)])\n",
    "            \n",
    "        # update on how many events have been processed\n",
    "        #if nevent>1000: break\n",
    "        if (nevent % 5000 == 0): print (\"processed\", nevent, \" Events\")\n",
    "       \n",
    "    # return\n",
    "    return data, event_weight\n",
    "            \n",
    "\n",
    "def process_spectra(inputfilename, label, nevent = 100000):\n",
    "               \n",
    "    # setup grid\n",
    "    pids = [411, 421, 431, 4122, -411, -421, -431, -4122]\n",
    "    ymin,ymax,ny = 0,9,18\n",
    "    ptmin,ptmax,npt = 0,30,120\n",
    "    dy,dpt = (ymax-ymin)/float(ny),(ptmax-ptmin)/float(npt)\n",
    "    grid = {}\n",
    "    yvals = np.linspace(ymin+dy/2., ymax-dy/2., ny)\n",
    "    ptvals = np.linspace(ptmin+dpt/2., ptmax-dpt/2., npt)\n",
    "    ybins = np.linspace(ymin, ymax, ny+1)\n",
    "    ptbins = np.linspace(ptmin, ptmax, npt+1)\n",
    "    for pid in pids:\n",
    "        thisgrid = {}\n",
    "        for y in yvals:\n",
    "            for pt in ptvals:\n",
    "                thisgrid[round(pt, 3),round(y, 3)] = 0\n",
    "        grid[pid]=thisgrid\n",
    "                \n",
    "\n",
    "    # read files generation\n",
    "    data, total_weight = process_file(inputfilename)\n",
    "    for pid, yh, pth in data:\n",
    "        if pth < ptmax and abs(yh)<9:\n",
    "            y,pt = round_y_and_pt(yh, pth, ybins, ptbins, dy, dpt)\n",
    "            grid[pid][pt, y] +=1\n",
    "        \n",
    "    # normalization and write\n",
    "    total_weight *= 0.5 # for forward/backward\n",
    "    dirname = \"files/\"+label+\"/\"\n",
    "    if not os.path.exists(dirname): os.mkdir(dirname)\n",
    "    for pid in pids:\n",
    "        f = open(dirname+\"/\"+label+\"_\"+str(pid)+\".txt\", \"w\")\n",
    "        for pt in ptvals:\n",
    "            for y in yvals:\n",
    "                weight = grid[pid][round(pt, 3),round(y, 3)] * total_weight / nevent / dpt / dy\n",
    "                f.write(str(round(y, 3))+\" \"+str(round(pt, 3))+\" \"+str(weight)+\"\\n\" )\n",
    "        f.close()\n",
    "\n",
    "#inputfilename = \"/Users/felixkling/Downloads/Documents/pwgPOWHEG+PYTHIA8-Monash.hepmc\"\n",
    "inputfilename = \"/Users/felixkling/Downloads/pwgPOWHEG+PYTHIA8-colourfix.hepmc\"\n",
    "label = \"13TeV_NLO_MATTHEW_Powheg-P8COLORFIX\"\n",
    "process_spectra(inputfilename, label, nevent = 100000)"
   ]
  },
  {
   "cell_type": "code",
   "execution_count": null,
   "metadata": {},
   "outputs": [],
   "source": []
  }
 ],
 "metadata": {
  "kernelspec": {
   "display_name": "Python 2",
   "language": "python",
   "name": "python2"
  },
  "language_info": {
   "codemirror_mode": {
    "name": "ipython",
    "version": 2
   },
   "file_extension": ".py",
   "mimetype": "text/x-python",
   "name": "python",
   "nbconvert_exporter": "python",
   "pygments_lexer": "ipython2",
   "version": "2.7.17"
  },
  "toc": {
   "base_numbering": 1,
   "nav_menu": {
    "height": "734px",
    "width": "465px"
   },
   "number_sections": true,
   "sideBar": true,
   "skip_h1_title": false,
   "title_cell": "Table of Contents",
   "title_sidebar": "Contents",
   "toc_cell": false,
   "toc_position": {},
   "toc_section_display": true,
   "toc_window_display": false
  }
 },
 "nbformat": 4,
 "nbformat_minor": 2
}
