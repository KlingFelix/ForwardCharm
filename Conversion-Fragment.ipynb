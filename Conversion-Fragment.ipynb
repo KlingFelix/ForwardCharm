{
 "cells": [
  {
   "cell_type": "markdown",
   "metadata": {},
   "source": [
    "# Reading charm quark from LHE file, Fragmentation, and Conversion "
   ]
  },
  {
   "cell_type": "markdown",
   "metadata": {},
   "source": [
    "## Load Libraries \n",
    "At first, I load all the libraries we will need later on."
   ]
  },
  {
   "cell_type": "code",
   "execution_count": 1,
   "metadata": {},
   "outputs": [],
   "source": [
    "import time \n",
    "import numpy as np\n",
    "import os\n",
    "import pythia8\n",
    "from skhep.math.vectors import LorentzVector, Vector3D"
   ]
  },
  {
   "cell_type": "markdown",
   "metadata": {},
   "source": [
    "### Function to write events in common format "
   ]
  },
  {
   "cell_type": "code",
   "execution_count": 2,
   "metadata": {},
   "outputs": [],
   "source": [
    "def count_events(filename):\n",
    "    nevent, nevents = 0 , 0\n",
    "    with open(filename) as f:\n",
    "        for line in f:\n",
    "            if line[:-1]==\"<event>\": nevents+=1\n",
    "            words = [elt.strip() for elt in line.split( )]\n",
    "            if words[0]==\"<event>\": nevent+=1\n",
    "    print (nevent, nevents)\n",
    "            \n",
    "def round_y_and_pt(y0, pt0 , ybins, ptbins, dy, dpt):\n",
    "    iy = np.digitize(abs(y0),ybins)\n",
    "    ipt = np.digitize(pt0,ptbins)\n",
    "    y = ybins[iy]-dy/2.\n",
    "    pt = ptbins[ipt]-dpt/2.\n",
    "    return y, pt\n",
    "\n",
    "def format_spectra(results, label):\n",
    "               \n",
    "    # setup grid\n",
    "    pids = [411, 421, 431, 4122, -411, -421, -431, -4122]\n",
    "    ymin,ymax,ny = 0,9,18\n",
    "    ptmin,ptmax,npt = 0,30,120\n",
    "    dy,dpt = (ymax-ymin)/float(ny),(ptmax-ptmin)/float(npt)\n",
    "    grid = {}\n",
    "    yvals = np.linspace(ymin+dy/2., ymax-dy/2., ny)\n",
    "    ptvals = np.linspace(ptmin+dpt/2., ptmax-dpt/2., npt)\n",
    "    ybins = np.linspace(ymin, ymax, ny+1)\n",
    "    ptbins = np.linspace(ptmin, ptmax, npt+1)\n",
    "    for pid in pids:\n",
    "        thisgrid = {}\n",
    "        for y in yvals:\n",
    "            for pt in ptvals:\n",
    "                thisgrid[round(pt, 3),round(y, 3)] = 0\n",
    "        grid[pid]=thisgrid\n",
    "            \n",
    "    # split up results\n",
    "    data, total_xs, nEvent = results\n",
    "            \n",
    "    # read data\n",
    "    for pid, yh, pth in data:\n",
    "        if pth < ptmax and abs(yh)<9:\n",
    "            y,pt = round_y_and_pt(abs(yh), pth, ybins, ptbins, dy, dpt)\n",
    "            grid[pid][pt, y] +=1\n",
    "        \n",
    "    # normalization and write\n",
    "    total_xs *= 0.5 # for forward/backward\n",
    "    dirname = \"files/\"+label+\"/\"\n",
    "    if not os.path.exists(dirname): os.mkdir(dirname)\n",
    "    for pid in pids:\n",
    "        f = open(dirname+\"/\"+label+\"_\"+str(pid)+\".txt\", \"w\")\n",
    "        for pt in ptvals:\n",
    "            for y in yvals:\n",
    "                weight = grid[pid][round(pt, 3),round(y, 3)] * total_xs / nEvent / dpt / dy\n",
    "                f.write(str(round(y, 3))+\" \"+str(round(pt, 3))+\" \"+str(weight)+\"\\n\" )\n",
    "        f.close()"
   ]
  },
  {
   "cell_type": "markdown",
   "metadata": {},
   "source": [
    "## Run Events through Pythia"
   ]
  },
  {
   "cell_type": "code",
   "execution_count": 59,
   "metadata": {},
   "outputs": [],
   "source": [
    "def process_events_pythia(filename, nrepeat=1):\n",
    "        \n",
    "    #get total cross section \n",
    "    with open(filename) as f:\n",
    "        found_first_event=False\n",
    "        for line in f:\n",
    "            if found_first_event: \n",
    "                total_xs =  float(line.split( )[2])   \n",
    "                break\n",
    "            if line[:-1]==\"<event>\": \n",
    "                found_first_event=True\n",
    "                \n",
    "    #run pythia multiple times\n",
    "    data, nEvent = [], 0\n",
    "    for i in range(nrepeat):\n",
    "        \n",
    "        # Initialize pythia \n",
    "        pythia = pythia8.Pythia();\n",
    "        pythia.readString(\"Random:setSeed = on\");\n",
    "        pythia.readString(\"Random:seed = 0\")\n",
    "        pythia.readString(\"411:maydecay=off\");\n",
    "        pythia.readString(\"421:maydecay=off\");\n",
    "        pythia.readString(\"431:maydecay=off\");\n",
    "        pythia.readString(\"4122:maydecay=off\");\n",
    "        pythia.readString(\"111:maydecay=off\");\n",
    "\n",
    "        # Initialize Les Houches Event File run.\n",
    "        pythia.readString(\"Beams:frameType = 4\");\n",
    "        pythia.readString(\"Beams:LHEF =\" + filename);\n",
    "        pythia.init();\n",
    "\n",
    "        # Begin event loop\n",
    "        iEvent = 0\n",
    "        while (True):\n",
    "\n",
    "            # logging info\n",
    "            #if iEvent>=10000: break;\n",
    "            iEvent+=1\n",
    "            nEvent+=1\n",
    "            if (iEvent+1)% 10000 == 0: print (\"processed \"+str(iEvent+1)+\" Events\")\n",
    "\n",
    "            # generate next event and stop if reach end\n",
    "            pythia.next();\n",
    "            if pythia.info.atEndOfFile(): break\n",
    "                #print (iEvent)\n",
    "                #print (\"End of file:\", pythia.info.atEndOfFile())\n",
    "                #print (pythia.event)\n",
    "                \n",
    "\n",
    "            # analyze events\n",
    "            for iparticle, particle in enumerate(pythia.event):\n",
    "                if particle.status()<0: continue\n",
    "                if abs(particle.id()) in [411, 421, 431, 4122]: \n",
    "                    px, py = particle.px(), particle.py()\n",
    "                    pz, en = particle.pz(), particle.e()\n",
    "                    pt, y  = np.sqrt(px**2+py**2), 0.5*np.log((en+pz)/(en-pz))\n",
    "                    data.append([particle.id(), y, pt])     \n",
    "        print (\"found \"+str(iEvent)+\" events\") \n",
    "    \n",
    "    return data, total_xs, nEvent"
   ]
  },
  {
   "cell_type": "markdown",
   "metadata": {},
   "source": [
    "## Use Fragmentation Function"
   ]
  },
  {
   "cell_type": "code",
   "execution_count": 4,
   "metadata": {},
   "outputs": [],
   "source": [
    "def process_events_ff(filename, nrepeat=1, frame=\"lab\", scale=\"p\"):\n",
    "        \n",
    "    # read charm quarks\n",
    "    events = []  \n",
    "    with open(filename) as f:\n",
    "        found_event=False\n",
    "        for line in f:\n",
    "            if found_event: \n",
    "                words = [elt.strip() for elt in line.split( )]\n",
    "                if len(words)==0 or words[0][0]==\"#\": continue\n",
    "                if len(words)==6: total_xs = float(words[2])   \n",
    "                if len(words)==13 and words[0] in [\"4\",\"-4\"]: \n",
    "                    px, py = float(words[6]), float(words[7])\n",
    "                    pz, en = float(words[8]), float(words[9])\n",
    "                    event.append(LorentzVector(px, py, pz, en))\n",
    "            if line[:-1]==\"<event>\": \n",
    "                found_event=True\n",
    "                event = []\n",
    "            if line[:-1]==\"</event>\": \n",
    "                found_event=False\n",
    "                events.append(event)\n",
    "            #if len(events)>=10000: break\n",
    "    \n",
    "    # initialize fragmentation\n",
    "    mcharm=1.5\n",
    "    epsilon=0.05\n",
    "    pids = [411  , 421  , 431  , 4122 ]\n",
    "    masses = {411: 1.86962, 421: 1.86486, 431: 1.96849, 4122: 2.28646}\n",
    "    ffractions = [0.246, 0.610, 0.082, 0.062]\n",
    "    ffractions =  np.array(ffractions) / sum(ffractions)\n",
    "    zvals = np.linspace(0.005,0.995,100)\n",
    "    ffvals = [ (1-1/z-epsilon/(1-z))**(-2)/z for z in zvals]\n",
    "    ffvals =  np.array(ffvals) / sum(ffvals) \n",
    "    \n",
    "    # charm \n",
    "    data=[]\n",
    "    for irepeat in range(nrepeat):\n",
    "        for event in events: \n",
    "\n",
    "            system = event[0]+event[1]\n",
    "            if frame==\"lab\": \n",
    "                quarks = [event[0], event[1]]\n",
    "            if frame==\"cm\" : \n",
    "                q1 = event[0].boost(system.boostvector)\n",
    "                q2 = event[1].boost(system.boostvector)\n",
    "                quarks = [q1, q2]\n",
    " \n",
    "            for iparticle, particle in enumerate(quarks):\n",
    "\n",
    "                # select hadronization channel\n",
    "                pid = np.random.choice(pids, size=1, p=ffractions)[0]\n",
    "                mass = masses[pid]\n",
    "\n",
    "                # select z=ph/pq and x=Eh/Eq\n",
    "                e, p = particle.e, particle.p\n",
    "                px, py, pz = particle.px, particle.py, particle.pz\n",
    "                z = np.random.choice(zvals, size=1, p=ffvals)[0]\n",
    "                #x = np.sqrt((z**2 * p**2 + mass**2)/(e**2))\n",
    "\n",
    "                # hadron momentum \n",
    "                #hadron0 =  LorentzVector(px*z, py*z, pz*z, e*x)\n",
    "                hadron =  LorentzVector()\n",
    "                if scale==\"p\": \n",
    "                    hadron.setpxpypzm(z*px, z*py, z*pz, mass)\n",
    "                if scale==\"e\":\n",
    "                    if z*e<mass: hadron.setpxpypzm(0, 0, 0, mass)\n",
    "                    else: \n",
    "                        x = np.sqrt(z**2*e**2-mass**2)/p\n",
    "                        hadron.setpxpypzm(x*px, x*py, x*pz, mass)\n",
    "                if frame==\"cm\": hadron=hadron.boost(-1.*system.boostvector)\n",
    "\n",
    "                # save\n",
    "                data.append([(-1)**(2-iparticle)*pid, hadron.rapidity, hadron.pt])           \n",
    "    return data, total_xs, len(events)*nrepeat"
   ]
  },
  {
   "cell_type": "markdown",
   "metadata": {},
   "source": [
    "## Run stuff"
   ]
  },
  {
   "cell_type": "code",
   "execution_count": 5,
   "metadata": {},
   "outputs": [],
   "source": [
    "filename=\"/Users/felixkling/Dropbox/Events_for_Felix/eventfile_13TeV_gg2ccb_hyb_MRW-MMHT2014nlo.lhe\""
   ]
  },
  {
   "cell_type": "code",
   "execution_count": 6,
   "metadata": {},
   "outputs": [
    {
     "name": "stderr",
     "output_type": "stream",
     "text": [
      "/Users/felixkling/anaconda/envs/rootenv/lib/python2.7/site-packages/ipykernel_launcher.py:56: RuntimeWarning: invalid value encountered in log\n"
     ]
    },
    {
     "name": "stdout",
     "output_type": "stream",
     "text": [
      "processed 10000 Events\n",
      "processed 20000 Events\n",
      "processed 30000 Events\n",
      "processed 40000 Events\n",
      "processed 50000 Events\n",
      "processed 60000 Events\n",
      "60539\n",
      "('End of file:', True)\n",
      "\n",
      " --------  PYTHIA Event Listing  (complete event)  ---------------------------------------------------------------------------------\n",
      " \n",
      "    no         id  name            status     mothers   daughters     colours      p_x        p_y        p_z         e          m \n",
      "                                   Charge sum:  0.000           Momentum sum:      0.000      0.000      0.000      0.000      0.000\n",
      "\n",
      " --------  End PYTHIA Event Listing  -----------------------------------------------------------------------------------------------\n",
      "\n",
      "found 60539 events\n",
      "('- finished after', 1911.7, 'seconds')\n"
     ]
    }
   ],
   "source": [
    "start_time = time.time()\n",
    "results = process_events_pythia(filename, nrepeat=1)\n",
    "format_spectra(results, \"13TeV_KT_RAFAL-hyb-MRW-P8\")\n",
    "print (\"- finished after\", round(time.time() - start_time,1), \"seconds\")"
   ]
  },
  {
   "cell_type": "code",
   "execution_count": 5,
   "metadata": {},
   "outputs": [
    {
     "data": {
      "text/plain": [
       "484352"
      ]
     },
     "execution_count": 5,
     "metadata": {},
     "output_type": "execute_result"
    }
   ],
   "source": [
    "60539*8+40\n"
   ]
  },
  {
   "cell_type": "code",
   "execution_count": 15,
   "metadata": {},
   "outputs": [
    {
     "name": "stdout",
     "output_type": "stream",
     "text": [
      "('load', '/Users/felixkling/Dropbox/Events_for_Felix/eventfile_13TeV_gg2ccb_hyb_MRW-MMHT2014nlo.lhe', '- finished after', 2318.6, 'seconds')\n"
     ]
    }
   ],
   "source": [
    "start_time = time.time()\n",
    "results = process_events_ff(filename, nrepeat=5, frame=\"lab\")\n",
    "format_spectra(results, \"13TeV_KT_RAFAL-hyb-MRW-FFLab\")\n",
    "print (\"- finished after\", round(time.time() - start_time,1), \"seconds\")"
   ]
  },
  {
   "cell_type": "code",
   "execution_count": 14,
   "metadata": {},
   "outputs": [
    {
     "name": "stdout",
     "output_type": "stream",
     "text": [
      "('load', '/Users/felixkling/Dropbox/Events_for_Felix/eventfile_13TeV_gg2ccb_hyb_MRW-MMHT2014nlo.lhe', '- finished after', 3528.2, 'seconds')\n"
     ]
    }
   ],
   "source": [
    "start_time = time.time()\n",
    "results = process_events_ff(filename, nrepeat=5, frame=\"cm\")\n",
    "format_spectra(results, \"13TeV_KT_RAFAL-hyb-MRW-FFCM\")\n",
    "print (\"- finished after\", round(time.time() - start_time,1), \"seconds\")"
   ]
  },
  {
   "cell_type": "code",
   "execution_count": 13,
   "metadata": {},
   "outputs": [
    {
     "name": "stdout",
     "output_type": "stream",
     "text": [
      "('load', '/Users/felixkling/Dropbox/Events_for_Felix/eventfile_13TeV_gg2ccb_hyb_MRW-MMHT2014nlo.lhe', '- finished after', 10702.8, 'seconds')\n"
     ]
    }
   ],
   "source": [
    "start_time = time.time()\n",
    "results = process_events_ff(filename, nrepeat=5, frame=\"lab\", scale=\"e\")\n",
    "format_spectra(results, \"13TeV_KT_RAFAL-hyb-MRW-FFLabE\")\n",
    "print (\"- finished after\", round(time.time() - start_time,1), \"seconds\")"
   ]
  },
  {
   "cell_type": "code",
   "execution_count": 19,
   "metadata": {},
   "outputs": [
    {
     "name": "stdout",
     "output_type": "stream",
     "text": [
      "(1790523, 1790523)\n"
     ]
    }
   ],
   "source": [
    "count_events(filename)"
   ]
  },
  {
   "cell_type": "markdown",
   "metadata": {},
   "source": [
    "# Generating with Pythia, Different Fragmentations"
   ]
  },
  {
   "cell_type": "markdown",
   "metadata": {},
   "source": [
    "### Load Libraries"
   ]
  },
  {
   "cell_type": "code",
   "execution_count": 3,
   "metadata": {},
   "outputs": [],
   "source": [
    "import time \n",
    "import numpy as np\n",
    "import os\n",
    "import pythia8\n",
    "from skhep.math.vectors import LorentzVector, Vector3D"
   ]
  },
  {
   "cell_type": "markdown",
   "metadata": {},
   "source": [
    "### Function to write events in common format "
   ]
  },
  {
   "cell_type": "code",
   "execution_count": 4,
   "metadata": {},
   "outputs": [],
   "source": [
    "def count_events(filename):\n",
    "    nevent, nevents = 0 , 0\n",
    "    with open(filename) as f:\n",
    "        for line in f:\n",
    "            if line[:-1]==\"<event>\": nevents+=1\n",
    "            words = [elt.strip() for elt in line.split( )]\n",
    "            if words[0]==\"<event>\": nevent+=1\n",
    "    print (nevent, nevents)\n",
    "            \n",
    "def round_y_and_pt(y0, pt0 , ybins, ptbins, dy, dpt):\n",
    "    iy = np.digitize(abs(y0),ybins)\n",
    "    ipt = np.digitize(pt0,ptbins)\n",
    "    y = ybins[iy]-dy/2.\n",
    "    pt = ptbins[ipt]-dpt/2.\n",
    "    return y, pt\n",
    "\n",
    "def format_spectra(results, label):\n",
    "               \n",
    "    # setup grid\n",
    "    pids = [411, 421, 431, 4122, -411, -421, -431, -4122]\n",
    "    ymin,ymax,ny = 0,9,18\n",
    "    ptmin,ptmax,npt = 0,30,120\n",
    "    dy,dpt = (ymax-ymin)/float(ny),(ptmax-ptmin)/float(npt)\n",
    "    grid = {}\n",
    "    yvals = np.linspace(ymin+dy/2., ymax-dy/2., ny)\n",
    "    ptvals = np.linspace(ptmin+dpt/2., ptmax-dpt/2., npt)\n",
    "    ybins = np.linspace(ymin, ymax, ny+1)\n",
    "    ptbins = np.linspace(ptmin, ptmax, npt+1)\n",
    "    for pid in pids:\n",
    "        thisgrid = {}\n",
    "        for y in yvals:\n",
    "            for pt in ptvals:\n",
    "                thisgrid[round(pt, 3),round(y, 3)] = 0\n",
    "        grid[pid]=thisgrid\n",
    "            \n",
    "    # split up results\n",
    "    data, total_xs, nEvent = results\n",
    "            \n",
    "    # read data\n",
    "    for pid, yh, pth in data:\n",
    "        if pth < ptmax and abs(yh)<9:\n",
    "            y,pt = round_y_and_pt(abs(yh), pth, ybins, ptbins, dy, dpt)\n",
    "            grid[pid][pt, y] +=1\n",
    "        \n",
    "    # normalization and write\n",
    "    total_xs *= 0.5 # for forward/backward\n",
    "    dirname = \"files/\"+label+\"/\"\n",
    "    if not os.path.exists(dirname): os.mkdir(dirname)\n",
    "    for pid in pids:\n",
    "        f = open(dirname+\"/\"+label+\"_\"+str(pid)+\".txt\", \"w\")\n",
    "        for pt in ptvals:\n",
    "            for y in yvals:\n",
    "                weight = grid[pid][round(pt, 3),round(y, 3)] * total_xs / nEvent / dpt / dy\n",
    "                f.write(str(round(y, 3))+\" \"+str(round(pt, 3))+\" \"+str(weight)+\"\\n\" )\n",
    "        f.close()"
   ]
  },
  {
   "cell_type": "markdown",
   "metadata": {},
   "source": [
    "### Fragmentation Functions"
   ]
  },
  {
   "cell_type": "code",
   "execution_count": 27,
   "metadata": {},
   "outputs": [],
   "source": [
    "# initialize fragmentation\n",
    "epsilon=0.05\n",
    "pids = [411  , 421  , 431  , 4122 ]\n",
    "masses = {411: 1.86962, 421: 1.86486, 431: 1.96849, 4122: 2.28646}\n",
    "ffractions = [0.246, 0.610, 0.082, 0.062]\n",
    "ffractions =  np.array(ffractions) / sum(ffractions)\n",
    "zvals = np.linspace(0.005,0.995,100)\n",
    "ffvals = [ (1-1/z-epsilon/(1-z))**(-2)/z for z in zvals]\n",
    "ffvals =  np.array(ffvals) / sum(ffvals) \n",
    "    \n",
    "def fragment(quark, system, frame=\"lab\", scale=\"p\", sign=1):\n",
    "            \n",
    "    if frame==\"lab\": particle=quark\n",
    "    if frame==\"cm\" : particle=quark.boost(system.boostvector)\n",
    "\n",
    "    # select hadronization channel\n",
    "    pid = np.random.choice(pids, size=1, p=ffractions)[0]\n",
    "    mass = masses[pid]\n",
    "\n",
    "    # select z=ph/pq and x=Eh/Eq\n",
    "    e, p = particle.e, particle.p\n",
    "    px, py, pz = particle.px, particle.py, particle.pz\n",
    "    z = np.random.choice(zvals, size=1, p=ffvals)[0]\n",
    "\n",
    "    # hadron momentum \n",
    "    hadron =  LorentzVector()\n",
    "    if scale==\"p\": \n",
    "        hadron.setpxpypzm(z*px, z*py, z*pz, mass)\n",
    "    if scale==\"e\":\n",
    "        if z*e<mass: hadron.setpxpypzm(0, 0, 0, mass)\n",
    "        else: \n",
    "            x = np.sqrt(z**2*e**2-mass**2)/p\n",
    "            hadron.setpxpypzm(x*px, x*py, x*pz, mass)\n",
    "    if frame==\"cm\": hadron=hadron.boost(-1.*system.boostvector)\n",
    "\n",
    "    # return\n",
    "    return [sign*pid, hadron.rapidity, hadron.pt ]"
   ]
  },
  {
   "cell_type": "markdown",
   "metadata": {},
   "source": [
    "### Run Pythia"
   ]
  },
  {
   "cell_type": "code",
   "execution_count": 28,
   "metadata": {},
   "outputs": [],
   "source": [
    "def generate_events_pythia(nEvent=100):\n",
    "    \n",
    "    # Initialize pythia \n",
    "    pythia = pythia8.Pythia();\n",
    "    pythia.readString(\"Random:setSeed = on\");\n",
    "    pythia.readString(\"Random:seed = 0\")\n",
    "    \n",
    "    # Process\n",
    "    pythia.readString(\"Beams:eCM = 13000\")\n",
    "    pythia.readString(\"HardQCD:hardccbar=on\");\n",
    "    pythia.readString(\"PartonLevel:MPI=on\");\n",
    "    pythia.readString(\"Tune:pp = 14\");\n",
    "    \n",
    "    # Stable Charm\n",
    "    pythia.readString(\"411:maydecay=off\");\n",
    "    pythia.readString(\"421:maydecay=off\");\n",
    "    pythia.readString(\"431:maydecay=off\");\n",
    "    pythia.readString(\"4122:maydecay=off\");\n",
    "    pythia.readString(\"111:maydecay=off\");\n",
    "    \n",
    "    #initialize\n",
    "    pythia.init();\n",
    "    start_time = time.time()\n",
    "\n",
    "    # Begin event loop\n",
    "    data={'lab':[], 'cm':[], 'p8':[]}\n",
    "    for iEvent in range(nEvent):\n",
    "\n",
    "        # logging info\n",
    "        if (iEvent+1)% 10000 == 0: \n",
    "            print (\"processed \"+str(iEvent+1)+\" Events after\", round(time.time()-start_time,1), \"seconds\")\n",
    "        \n",
    "        # generate next \n",
    "        pythia.next();\n",
    "            \n",
    "        # quarks\n",
    "        quark1p8 = pythia.event[5];\n",
    "        quark2p8 = pythia.event[6];\n",
    "        quark1=LorentzVector(quark1p8.px(), quark1p8.py(), quark1p8.pz(), quark1p8.e())\n",
    "        quark2=LorentzVector(quark2p8.px(), quark2p8.py(), quark2p8.pz(), quark2p8.e())\n",
    "        system = quark1+quark2\n",
    "                \n",
    "        # fragmentation function \n",
    "        data['lab'].append(fragment(quark1, system, frame=\"lab\", scale=\"p\", sign=np.sign(quark1p8.id()) ))\n",
    "        data['lab'].append(fragment(quark2, system, frame=\"lab\", scale=\"p\", sign=np.sign(quark2p8.id()) ))\n",
    "        data['cm'].append(fragment(quark1, system, frame=\"cm\", scale=\"p\", sign=np.sign(quark1p8.id()) ))\n",
    "        data['cm'].append(fragment(quark2, system, frame=\"cm\", scale=\"p\", sign=np.sign(quark2p8.id()) ))\n",
    "        \n",
    "        # analyze events\n",
    "        for iparticle, particle in enumerate(pythia.event):\n",
    "            if particle.status()<0: continue\n",
    "            if abs(particle.id()) in [411, 421, 431, 4122]: \n",
    "                px, py = particle.px(), particle.py()\n",
    "                pz, en = particle.pz(), particle.e()\n",
    "                pt, y  = np.sqrt(px**2+py**2), 0.5*np.log((en+pz)/(en-pz))\n",
    "                data['p8'].append([particle.id(), y, pt])     \n",
    "\n",
    "    \n",
    "    total_xs = pythia.info.sigmaGen()*10**9\n",
    "    return data, total_xs, nEvent"
   ]
  },
  {
   "cell_type": "markdown",
   "metadata": {},
   "source": [
    "### Run"
   ]
  },
  {
   "cell_type": "code",
   "execution_count": 32,
   "metadata": {},
   "outputs": [
    {
     "name": "stdout",
     "output_type": "stream",
     "text": [
      "processed 10000 Events\n",
      "processed 20000 Events\n",
      "processed 30000 Events\n",
      "processed 40000 Events\n",
      "processed 50000 Events\n",
      "processed 60000 Events\n",
      "processed 70000 Events\n",
      "processed 80000 Events\n",
      "processed 90000 Events\n",
      "processed 100000 Events\n",
      "processed 110000 Events\n",
      "processed 120000 Events\n",
      "processed 130000 Events\n",
      "processed 140000 Events\n",
      "processed 150000 Events\n",
      "processed 160000 Events\n",
      "processed 170000 Events\n",
      "processed 180000 Events\n",
      "processed 190000 Events\n",
      "processed 200000 Events\n",
      "processed 210000 Events\n",
      "processed 220000 Events\n",
      "processed 230000 Events\n",
      "processed 240000 Events\n",
      "processed 250000 Events\n",
      "processed 260000 Events\n",
      "processed 270000 Events\n",
      "processed 280000 Events\n",
      "processed 290000 Events\n",
      "processed 300000 Events\n",
      "processed 310000 Events\n",
      "processed 320000 Events\n",
      "processed 330000 Events\n",
      "processed 340000 Events\n",
      "processed 350000 Events\n",
      "processed 360000 Events\n",
      "processed 370000 Events\n",
      "processed 380000 Events\n",
      "processed 390000 Events\n",
      "processed 400000 Events\n",
      "processed 410000 Events\n",
      "processed 420000 Events\n",
      "processed 430000 Events\n",
      "processed 440000 Events\n",
      "processed 450000 Events\n",
      "processed 460000 Events\n",
      "processed 470000 Events\n",
      "processed 480000 Events\n",
      "processed 490000 Events\n",
      "processed 500000 Events\n"
     ]
    }
   ],
   "source": [
    "data, total_xs, nEvent = generate_events_pythia(nEvent=500000)\n",
    "format_spectra([data['lab'], total_xs, nEvent], \"13TeV_Pythia8_FFLab\")\n",
    "format_spectra([data['cm'], total_xs, nEvent], \"13TeV_Pythia8_FFCM\")\n",
    "format_spectra([data['p8'], total_xs, nEvent], \"13TeV_Pythia8_P8\")"
   ]
  },
  {
   "cell_type": "code",
   "execution_count": null,
   "metadata": {},
   "outputs": [],
   "source": []
  }
 ],
 "metadata": {
  "kernelspec": {
   "display_name": "Python 3",
   "language": "python",
   "name": "python3"
  },
  "language_info": {
   "codemirror_mode": {
    "name": "ipython",
    "version": 3
   },
   "file_extension": ".py",
   "mimetype": "text/x-python",
   "name": "python",
   "nbconvert_exporter": "python",
   "pygments_lexer": "ipython3",
   "version": "3.6.10"
  },
  "toc": {
   "base_numbering": 1,
   "nav_menu": {
    "height": "734px",
    "width": "465px"
   },
   "number_sections": true,
   "sideBar": true,
   "skip_h1_title": false,
   "title_cell": "Table of Contents",
   "title_sidebar": "Contents",
   "toc_cell": false,
   "toc_position": {},
   "toc_section_display": true,
   "toc_window_display": false
  }
 },
 "nbformat": 4,
 "nbformat_minor": 2
}
